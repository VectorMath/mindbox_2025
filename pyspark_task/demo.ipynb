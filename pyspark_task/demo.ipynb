{
 "cells": [
  {
   "cell_type": "code",
   "execution_count": 1,
   "id": "11a7b105-ab2f-4d13-88aa-26e3386eeaee",
   "metadata": {},
   "outputs": [],
   "source": [
    "from function import get_product_category_info\n",
    "from pyspark.sql import SparkSession\n",
    "\n",
    "spark = SparkSession \\\n",
    "            .builder \\\n",
    "            .appName(\"mindbox_2025\") \\\n",
    "            .getOrCreate()"
   ]
  },
  {
   "cell_type": "code",
   "execution_count": 2,
   "id": "bb33cae5-62a0-434d-a324-8b6b65320fe2",
   "metadata": {},
   "outputs": [],
   "source": [
    "df_product = spark.read.csv(path='product.csv', header=True, sep=',')\n",
    "df_category = spark.read.csv(path='category.csv', header=True, sep=',')\n",
    "df_link_product_category = spark.read.csv(path='link_product_category.csv', header=True, sep=',')"
   ]
  },
  {
   "cell_type": "code",
   "execution_count": 3,
   "id": "436a6c8d-9459-41db-9b21-78301de8cc5a",
   "metadata": {},
   "outputs": [
    {
     "name": "stdout",
     "output_type": "stream",
     "text": [
      "+----------+------------+\n",
      "|product_id|product_name|\n",
      "+----------+------------+\n",
      "|         1|       Apple|\n",
      "|         2|      Banana|\n",
      "|         3|  Watermelon|\n",
      "|         4|      Carrot|\n",
      "|         5|      Orange|\n",
      "|         6|   Pineapple|\n",
      "|         7|    Cucumber|\n",
      "|         8|  Strawberry|\n",
      "+----------+------------+\n",
      "\n"
     ]
    }
   ],
   "source": [
    "df_product.show()"
   ]
  },
  {
   "cell_type": "code",
   "execution_count": 4,
   "id": "701bf81e-dcdf-4345-a016-578835865438",
   "metadata": {},
   "outputs": [
    {
     "name": "stdout",
     "output_type": "stream",
     "text": [
      "+-----------+-------------+\n",
      "|category_id|category_name|\n",
      "+-----------+-------------+\n",
      "|         10|        Fruit|\n",
      "|         20|     Tropical|\n",
      "|         30|    Vegetable|\n",
      "|         40|        Berry|\n",
      "|         50|       Citrus|\n",
      "+-----------+-------------+\n",
      "\n"
     ]
    }
   ],
   "source": [
    "df_category.show()"
   ]
  },
  {
   "cell_type": "code",
   "execution_count": 5,
   "id": "7900be62-8ec0-4b4a-a1ed-37f3bb2a0e8b",
   "metadata": {},
   "outputs": [
    {
     "name": "stdout",
     "output_type": "stream",
     "text": [
      "+----------+-----------+\n",
      "|product_id|category_id|\n",
      "+----------+-----------+\n",
      "|         1|         10|\n",
      "|         2|         10|\n",
      "|         2|         20|\n",
      "|         3|         10|\n",
      "|         4|         30|\n",
      "|         5|         10|\n",
      "|         5|         50|\n",
      "|         6|         10|\n",
      "|         6|         20|\n",
      "|         8|         40|\n",
      "+----------+-----------+\n",
      "\n"
     ]
    }
   ],
   "source": [
    "df_link_product_category.show()"
   ]
  },
  {
   "cell_type": "code",
   "execution_count": 6,
   "id": "29f77255-d3d4-454f-b404-25bc6d183d5f",
   "metadata": {},
   "outputs": [],
   "source": [
    "df, product_list = get_product_category_info(df_product, df_category, df_link_product_category)"
   ]
  },
  {
   "cell_type": "code",
   "execution_count": 7,
   "id": "0e2efee8-9104-4a91-ad4e-d6f939f46dcd",
   "metadata": {},
   "outputs": [
    {
     "name": "stdout",
     "output_type": "stream",
     "text": [
      "+------------+-------------+\n",
      "|product_name|category_name|\n",
      "+------------+-------------+\n",
      "|       Apple|        Fruit|\n",
      "|      Banana|     Tropical|\n",
      "|      Banana|        Fruit|\n",
      "|  Watermelon|        Fruit|\n",
      "|      Carrot|    Vegetable|\n",
      "|      Orange|       Citrus|\n",
      "|      Orange|        Fruit|\n",
      "|   Pineapple|     Tropical|\n",
      "|   Pineapple|        Fruit|\n",
      "|    Cucumber|         NULL|\n",
      "|  Strawberry|        Berry|\n",
      "+------------+-------------+\n",
      "\n"
     ]
    }
   ],
   "source": [
    "df.show()"
   ]
  },
  {
   "cell_type": "code",
   "execution_count": 8,
   "id": "261a2c68-a3ad-4375-b2a2-2e6931ea4141",
   "metadata": {},
   "outputs": [
    {
     "name": "stdout",
     "output_type": "stream",
     "text": [
      "['Cucumber']\n"
     ]
    }
   ],
   "source": [
    "print(product_list)"
   ]
  },
  {
   "cell_type": "code",
   "execution_count": null,
   "id": "2e32f4b9-4767-4a01-a14d-dfdfb042d7e3",
   "metadata": {},
   "outputs": [],
   "source": []
  }
 ],
 "metadata": {
  "kernelspec": {
   "display_name": "Python 3 (ipykernel)",
   "language": "python",
   "name": "python3"
  },
  "language_info": {
   "codemirror_mode": {
    "name": "ipython",
    "version": 3
   },
   "file_extension": ".py",
   "mimetype": "text/x-python",
   "name": "python",
   "nbconvert_exporter": "python",
   "pygments_lexer": "ipython3",
   "version": "3.12.4"
  }
 },
 "nbformat": 4,
 "nbformat_minor": 5
}
